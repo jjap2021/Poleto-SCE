{
 "cells": [
  {
   "cell_type": "code",
   "execution_count": 9,
   "metadata": {},
   "outputs": [],
   "source": [
    "import pandas as pd\n",
    "import numpy as np\n",
    "import seaborn as sns\n",
    "import matplotlib.pyplot as plt\n",
    "import ast\n",
    "\n",
    "\n",
    "from sklearn.model_selection import train_test_split\n",
    "from sklearn.linear_model import LassoCV\n",
    "from sklearn.preprocessing import StandardScaler\n",
    "\n",
    "from sklearn.metrics import mean_squared_error, r2_score\n",
    "\n",
    "df = pd.read_csv(r\"C:\\Users\\jjap2\\Poleto SCE\\Poleto-SCE\\dond_game_data.csv\")"
   ]
  },
  {
   "cell_type": "code",
   "execution_count": 10,
   "metadata": {},
   "outputs": [],
   "source": [
    "#cleaning cell\n",
    "df[\"Remaining Values\"] = df[\"Remaining Values\"].apply(ast.literal_eval)\n",
    "\n",
    "all_values = set()\n",
    "for values in df[\"Remaining Values\"]:\n",
    "    all_values.update(values)\n",
    "\n",
    "for value in sorted(all_values):\n",
    "    df[f\"Case_{value}\"] = df[\"Remaining Values\"].apply(lambda x: 1 if value in x else 0)\n",
    "\n",
    "df.drop(columns=[\"Remaining Values\"], inplace=True)\n",
    "df.drop(columns=[\"Contestant Name\"], inplace=True)\n",
    "\n",
    "categorical_columns = [\"Contestant Gender\", \"Contestant Race\"]\n",
    "df = pd.get_dummies(df, columns=categorical_columns, drop_first=True)"
   ]
  },
  {
   "cell_type": "code",
   "execution_count": 11,
   "metadata": {},
   "outputs": [],
   "source": [
    "# defining variables\n",
    "X = df.drop(columns=[\"Offer\"])\n",
    "y = df[\"Offer\"]"
   ]
  },
  {
   "cell_type": "code",
   "execution_count": 12,
   "metadata": {},
   "outputs": [],
   "source": [
    "# standardize!\n",
    "scaler = StandardScaler()\n",
    "X_scaled = scaler.fit_transform(X)"
   ]
  },
  {
   "cell_type": "code",
   "execution_count": 13,
   "metadata": {},
   "outputs": [],
   "source": [
    "X_train, X_test, y_train, y_test = train_test_split(X_scaled, y, test_size=0.2, random_state=42)\n",
    "\n",
    "lasso = LassoCV(cv=5, random_state=42).fit(X_train, y_train)"
   ]
  },
  {
   "cell_type": "code",
   "execution_count": 14,
   "metadata": {},
   "outputs": [
    {
     "name": "stdout",
     "output_type": "stream",
     "text": [
      "Alpha: 102.35749552417937\n",
      "LASSO Coefficients: [-1.64682964e+01  9.25925245e+03 -2.81935066e+04  1.24093999e+05\n",
      " -4.61560432e+02  3.43371398e+03  3.20291622e+04  1.95378778e+03\n",
      " -1.29902898e+03  6.18709701e+03 -4.37207744e+03  2.31555314e+03\n",
      "  3.32703615e+03  7.59231924e+02  1.89922120e+03  3.74992759e+03\n",
      " -0.00000000e+00  3.62721545e+03  3.15759662e+03  2.91698604e+03\n",
      "  2.11013909e+03  3.27692660e+03  2.88449604e+03  2.09962166e+03\n",
      "  4.57737307e+03  9.43586219e+02  0.00000000e+00  2.86615936e+03\n",
      " -1.19780428e+03 -0.00000000e+00  5.25969740e+03  2.29499587e+03\n",
      " -0.00000000e+00  2.39394348e+03  1.41931183e+03  9.76661258e+01\n",
      "  4.49003848e+03  1.26837042e+03  2.45955141e+03 -7.15417391e+03\n",
      "  1.66426285e+03  0.00000000e+00  1.22700554e+03 -1.70915424e+03\n",
      " -5.44142464e+03 -7.18134007e+02 -6.42080027e+03 -4.68761375e+02\n",
      " -3.20557561e+03 -0.00000000e+00 -9.54883889e+03 -2.62084743e+02\n",
      "  5.39106716e+02  0.00000000e+00 -2.80022205e+03  2.09476360e+02]\n"
     ]
    }
   ],
   "source": [
    "Alpha = lasso.alpha_\n",
    "lasso_coefs = lasso.coef_\n",
    "\n",
    "print(\"Alpha:\", Alpha\n",
    "      )\n",
    "print(\"LASSO Coefficients:\", lasso_coefs)"
   ]
  },
  {
   "cell_type": "code",
   "execution_count": 15,
   "metadata": {},
   "outputs": [
    {
     "name": "stdout",
     "output_type": "stream",
     "text": [
      "Important Features and Their LASSO Coefficients:\n",
      "Board Average: 124093.9991\n",
      "Offer Percent of Average: 32029.1622\n",
      "Board Value: -28193.5066\n",
      "Case_6000000: -9548.8389\n",
      "Round: 9259.2524\n",
      "Case_250000: -7154.1739\n",
      "Case_1000000: -6420.8003\n",
      "Postgame: 6187.0970\n",
      "Case_750000: -5441.4246\n",
      "Case_5000: 5259.6974\n",
      "Case_500: 4577.3731\n",
      "Case_100000: 4490.0385\n",
      "Probability of Big Value: -4372.0774\n",
      "Case_10: 3749.9276\n",
      "Case_25: 3627.2155\n",
      "Previous Offer: 3433.7140\n",
      "Case_1: 3327.0361\n",
      "Case_200: 3276.9266\n",
      "Case_2000000: -3205.5756\n",
      "Case_50: 3157.5966\n",
      "Case_75: 2916.9860\n",
      "Case_300: 2884.4960\n",
      "Case_1000: 2866.1594\n",
      "Contestant Race_Hispanic: -2800.2221\n",
      "Case_200000: 2459.5514\n",
      "Case_25000: 2393.9435\n",
      "Case_0: 2315.5531\n",
      "Case_10000: 2294.9959\n",
      "Case_100: 2110.1391\n",
      "Case_400: 2099.6217\n",
      "Deal: 1953.7878\n",
      "Case_5: 1899.2212\n",
      "Case_600000: -1709.1542\n",
      "Case_300000: 1664.2628\n",
      "Case_50000: 1419.3118\n",
      "Amount Won: -1299.0290\n",
      "Case_150000: 1268.3704\n",
      "Case_500000: 1227.0055\n",
      "Case_1500: -1197.8043\n",
      "Case_750: 943.5862\n",
      "Case_2: 759.2319\n",
      "Case_800000: -718.1340\n",
      "Contestant Gender_Non-Binary: 539.1067\n",
      "Case_1500000: -468.7614\n",
      "Board Balance: -461.5604\n",
      "Contestant Gender_Male: -262.0847\n",
      "Contestant Race_White: 209.4764\n",
      "Case_75000: 97.6661\n",
      "Game ID: -16.4683\n"
     ]
    }
   ],
   "source": [
    "nz_feats = X.columns[lasso.coef_ != 0]\n",
    "nz_coefs = lasso.coef_[lasso.coef_ != 0]\n",
    "nz_feat_list = list(zip(nz_feats, nz_coefs))\n",
    "nz_feat_list.sort(key=lambda x: abs(x[1]), reverse=True)\n",
    "\n",
    "print(\"Important Features and Their LASSO Coefficients:\")\n",
    "for feature, coef in nz_feat_list:\n",
    "    print(f\"{feature}: {coef:.4f}\")\n"
   ]
  },
  {
   "cell_type": "code",
   "execution_count": 16,
   "metadata": {},
   "outputs": [
    {
     "name": "stdout",
     "output_type": "stream",
     "text": [
      "Train MSE: 438349887.87, Test MSE: 437787531.79\n",
      "Train R²: 0.97, Test R²: 0.97\n"
     ]
    }
   ],
   "source": [
    "y_train_pred = lasso.predict(X_train)\n",
    "y_test_pred = lasso.predict(X_test)\n",
    "\n",
    "train_mse = mean_squared_error(y_train, y_train_pred)\n",
    "test_mse = mean_squared_error(y_test, y_test_pred)\n",
    "train_r2 = r2_score(y_train, y_train_pred)\n",
    "test_r2 = r2_score(y_test, y_test_pred)\n",
    "\n",
    "print(f\"Train MSE: {train_mse:.2f}, Test MSE: {test_mse:.2f}\")\n",
    "print(f\"Train R²: {train_r2:.2f}, Test R²: {test_r2:.2f}\")"
   ]
  },
  {
   "cell_type": "code",
   "execution_count": 24,
   "metadata": {},
   "outputs": [
    {
     "data": {
      "image/png": "[encoded data removed]",
      "text/plain": [
       "<Figure size 800x600 with 1 Axes>"
      ]
     },
     "metadata": {},
     "output_type": "display_data"
    }
   ],
   "source": [
    "plt.figure(figsize=(8, 6))\n",
    "plt.scatter(y_test, y_test_pred, color='blue', label=\"Predicted vs Actual\")\n",
    "plt.plot([min(y_test), max(y_test)], [min(y_test), max(y_test)], color='red', linestyle='--', label=\"Perfect Fit\")\n",
    "plt.xlabel(\"Actual Offers\")\n",
    "plt.ylabel(\"Predicted Offers\")\n",
    "plt.title(\"Predicted vs Actual Bank Offers\")\n",
    "plt.legend()\n",
    "plt.show()"
   ]
  },
  {
   "cell_type": "code",
   "execution_count": null,
   "metadata": {},
   "outputs": [
    {
     "name": "stdout",
     "output_type": "stream",
     "text": [
      "     Game ID  Round  Actual Offer  Predicted Offer\n",
      "137       24     10           0.0    -98943.452650\n",
      "139       25      2        8000.0     -7229.175401\n",
      "742       98      3       17000.0     -2753.433762\n",
      "821      107      3        8700.0    -11996.528844\n",
      "76        40     10           0.0    -85148.620511\n",
      "722       95     10           0.0    -82117.720028\n",
      "527       71      3       10000.0    -13573.030612\n"
     ]
    }
   ],
   "source": [
    "results = df.loc[y_test.index, [\"Game ID\", \"Round\"]].copy()\n",
    "results[\"Actual Offer\"] = y_test.values\n",
    "results[\"Predicted Offer\"] = y_test_pred\n",
    "negative_predictions = results[results[\"Predicted Offer\"] < 0]\n",
    "\n",
    "print(negative_predictions)\n"
   ]
  },
  {
   "cell_type": "code",
   "execution_count": null,
   "metadata": {},
   "outputs": [],
   "source": []
  }
 ],
 "metadata": {
  "kernelspec": {
   "display_name": "phillies",
   "language": "python",
   "name": "python3"
  },
  "language_info": {
   "codemirror_mode": {
    "name": "ipython",
    "version": 3
   },
   "file_extension": ".py",
   "mimetype": "text/x-python",
   "name": "python",
   "nbconvert_exporter": "python",
   "pygments_lexer": "ipython3",
   "version": "3.11.10"
  }
 },
 "nbformat": 4,
 "nbformat_minor": 2
}
