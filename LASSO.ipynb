{
 "cells": [
  {
   "cell_type": "code",
   "execution_count": 1,
   "metadata": {},
   "outputs": [],
   "source": [
    "import pandas as pd\n",
    "import numpy as np\n",
    "import seaborn as sns\n",
    "import matplotlib.pyplot as plt\n",
    "import ast\n",
    "\n",
    "\n",
    "from sklearn.model_selection import train_test_split\n",
    "from sklearn.linear_model import LassoCV\n",
    "from sklearn.preprocessing import StandardScaler\n",
    "\n",
    "\n",
    "df = pd.read_csv(r\"C:\\Users\\jjap2\\Poleto SCE\\Poleto-SCE\\dond_game_data.csv\")"
   ]
  },
  {
   "cell_type": "code",
   "execution_count": 2,
   "metadata": {},
   "outputs": [],
   "source": [
    "#cleaning cell\n",
    "df[\"Remaining Values\"] = df[\"Remaining Values\"].apply(ast.literal_eval)\n",
    "\n",
    "all_values = set()\n",
    "for values in df[\"Remaining Values\"]:\n",
    "    all_values.update(values)\n",
    "\n",
    "for value in sorted(all_values):\n",
    "    df[f\"Case_{value}\"] = df[\"Remaining Values\"].apply(lambda x: 1 if value in x else 0)\n",
    "\n",
    "df.drop(columns=[\"Remaining Values\"], inplace=True)\n",
    "df.drop(columns=[\"Contestant Name\"], inplace=True)\n",
    "\n",
    "categorical_columns = [\"Contestant Gender\", \"Contestant Race\"]\n",
    "df = pd.get_dummies(df, columns=categorical_columns, drop_first=True)"
   ]
  },
  {
   "cell_type": "code",
   "execution_count": 3,
   "metadata": {},
   "outputs": [],
   "source": [
    "# defining variables\n",
    "X = df.drop(columns=[\"Offer\"])\n",
    "y = df[\"Offer\"]"
   ]
  },
  {
   "cell_type": "code",
   "execution_count": 4,
   "metadata": {},
   "outputs": [],
   "source": [
    "# standardize!\n",
    "scaler = StandardScaler()\n",
    "X_scaled = scaler.fit_transform(X)"
   ]
  },
  {
   "cell_type": "code",
   "execution_count": 5,
   "metadata": {},
   "outputs": [],
   "source": [
    "X_train, X_test, y_train, y_test = train_test_split(X_scaled, y, test_size=0.2, random_state=42)\n",
    "\n",
    "lasso = LassoCV(cv=5, random_state=42).fit(X_train, y_train)"
   ]
  },
  {
   "cell_type": "code",
   "execution_count": 7,
   "metadata": {},
   "outputs": [
    {
     "name": "stdout",
     "output_type": "stream",
     "text": [
      "Alpha: 102.35749552417937\n",
      "LASSO Coefficients: [-1.64682964e+01  9.25925245e+03 -2.81935066e+04  1.24093999e+05\n",
      " -4.61560432e+02  3.43371398e+03  3.20291622e+04  1.95378778e+03\n",
      " -1.29902898e+03  6.18709701e+03 -4.37207744e+03  2.31555314e+03\n",
      "  3.32703615e+03  7.59231924e+02  1.89922120e+03  3.74992759e+03\n",
      " -0.00000000e+00  3.62721545e+03  3.15759662e+03  2.91698604e+03\n",
      "  2.11013909e+03  3.27692660e+03  2.88449604e+03  2.09962166e+03\n",
      "  4.57737307e+03  9.43586219e+02  0.00000000e+00  2.86615936e+03\n",
      " -1.19780428e+03 -0.00000000e+00  5.25969740e+03  2.29499587e+03\n",
      " -0.00000000e+00  2.39394348e+03  1.41931183e+03  9.76661258e+01\n",
      "  4.49003848e+03  1.26837042e+03  2.45955141e+03 -7.15417391e+03\n",
      "  1.66426285e+03  0.00000000e+00  1.22700554e+03 -1.70915424e+03\n",
      " -5.44142464e+03 -7.18134007e+02 -6.42080027e+03 -4.68761375e+02\n",
      " -3.20557561e+03 -0.00000000e+00 -9.54883889e+03 -2.62084743e+02\n",
      "  5.39106716e+02  0.00000000e+00 -2.80022205e+03  2.09476360e+02]\n"
     ]
    }
   ],
   "source": [
    "Alpha = lasso.alpha_\n",
    "lasso_coefs = lasso.coef_\n",
    "\n",
    "print(\"Alpha:\", Alpha)\n",
    "print(\"LASSO Coefficients:\", lasso_coefs)"
   ]
  },
  {
   "cell_type": "code",
   "execution_count": null,
   "metadata": {},
   "outputs": [],
   "source": []
  }
 ],
 "metadata": {
  "kernelspec": {
   "display_name": "phillies",
   "language": "python",
   "name": "python3"
  },
  "language_info": {
   "codemirror_mode": {
    "name": "ipython",
    "version": 3
   },
   "file_extension": ".py",
   "mimetype": "text/x-python",
   "name": "python",
   "nbconvert_exporter": "python",
   "pygments_lexer": "ipython3",
   "version": "3.11.10"
  }
 },
 "nbformat": 4,
 "nbformat_minor": 2
}
